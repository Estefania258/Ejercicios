{
  "nbformat": 4,
  "nbformat_minor": 0,
  "metadata": {
    "colab": {
      "provenance": [],
      "include_colab_link": true
    },
    "kernelspec": {
      "name": "python3",
      "display_name": "Python 3"
    },
    "language_info": {
      "name": "python"
    }
  },
  "cells": [
    {
      "cell_type": "markdown",
      "metadata": {
        "id": "view-in-github",
        "colab_type": "text"
      },
      "source": [
        "<a href=\"https://colab.research.google.com/github/Estefania258/Ejercicios/blob/main/MECANICA_(1).ipynb\" target=\"_parent\"><img src=\"https://colab.research.google.com/assets/colab-badge.svg\" alt=\"Open In Colab\"/></a>"
      ]
    },
    {
      "cell_type": "code",
      "execution_count": null,
      "metadata": {
        "id": "MosLQIL5Ty8c",
        "colab": {
          "base_uri": "https://localhost:8080/"
        },
        "outputId": "209cf32e-c806-42d8-d70b-b7dbd2f7deb3"
      },
      "outputs": [
        {
          "output_type": "stream",
          "name": "stdout",
          "text": [
            "Altura máxima alcanzada: 45.91836734693877 metros\n",
            "Tiempo para alcanzar la altura máxima: 3.061224489795918 segundos\n"
          ]
        }
      ],
      "source": [
        "import math\n",
        "\n",
        "def fisica(vi, vf, t1, t2, a1, altI):\n",
        "    cadena = \"Altura maxima\"\n",
        "\n",
        "    if cadena == \"Calcular desplazamiento\":\n",
        "        Velocidad_i = vi  # Velocidad inicial en m/s\n",
        "        Aceleracion = a1  # Aceleración en m/s^2\n",
        "        Tiempo = t1  # Tiempo en segundos\n",
        "\n",
        "        Velocidad_f = vi + (Aceleracion * Tiempo)\n",
        "        Desplazamiento = (Velocidad_i * Tiempo) + (0.5 * Aceleracion * Tiempo**2)\n",
        "\n",
        "        print(\"Velocidad final:\", Velocidad_f, \"m/s\")\n",
        "        print(\"Desplazamiento:\", Desplazamiento, \"m\")\n",
        "\n",
        "    elif cadena == \"Tiempo de caida\":\n",
        "      Altura_i = altI  # Altura inicial en metros\n",
        "      g = a1  # Aceleración debido a la gravedad en m/s^2\n",
        "\n",
        "      Velocidad_f = math.sqrt(2 * g * Altura_i)\n",
        "      Tiempo_caída = math.sqrt((2 * Altura_i) / g)\n",
        "\n",
        "      print(\"Velocidad final:\", Velocidad_f, \"m/s\")\n",
        "      print(\"Tiempo de caída:\", Tiempo_caída, \"segundos\")\n",
        "\n",
        "    elif cadena == \"Calcular a dos tiempos\":\n",
        "      Velocidad_i = vi  # Velocidad inicial en m/s\n",
        "      t_1 = t1  # Tiempo en segundos para la velocidad constante\n",
        "      Aceleracion = a1  # Aceleración en m/s^2\n",
        "      t_2 = t2  # Tiempo en segundos para la aceleración\n",
        "\n",
        "      Velocidad_f = Velocidad_i + (Aceleracion * t_2)\n",
        "\n",
        "      d1 = Velocidad_i * t_1\n",
        "      d2 = (Velocidad_i * t_2) + (0.5 * Aceleracion * t_2**2)\n",
        "      d_total = d1 + d2\n",
        "\n",
        "      print(\"Velocidad final:\", Velocidad_f, \"m/s\")\n",
        "      print(\"Desplazamiento total:\", d_total, \"m\")\n",
        "\n",
        "    elif cadena == \"Altura maxima\":\n",
        "      \n",
        "      t_altmax = - vi / a1\n",
        "      altmax = (vi ** 2) / (2 * abs(a1))\n",
        "\n",
        "      Velocidad_i = vi  # Velocidad inicial en m/s\n",
        "      aceleracion_g = a1  # Aceleración debida a la gravedad en m/s^2\n",
        "\n",
        "      print(\"Altura máxima alcanzada:\", altmax, \"metros\")\n",
        "      print(\"Tiempo para alcanzar la altura máxima:\", t_altmax, \"segundos\")\n",
        "\n",
        "\n",
        "# Ejemplo de uso de la función\n",
        "fisica(30, 1, 2, 0, -9.8, 2)"
      ]
    }
  ]
}